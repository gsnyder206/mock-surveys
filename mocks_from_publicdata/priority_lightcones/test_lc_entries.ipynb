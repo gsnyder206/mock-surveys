{
 "cells": [
  {
   "cell_type": "code",
   "execution_count": 1,
   "metadata": {},
   "outputs": [],
   "source": [
    "import tng_api_utils as tau\n",
    "import astropy.io.ascii as ascii"
   ]
  },
  {
   "cell_type": "code",
   "execution_count": 12,
   "metadata": {},
   "outputs": [],
   "source": [
    "testfile='Lightcone_TNG300-1_mag30_6_5_xyz_GFSTEST.txt'\n",
    "testfile2='Illustris-1_RADEC_hudfwide_75Mpc_7_6_xyz_corners.txt'\n",
    "lc_colnames=['Snapshot number', 'Subhalo index', 'RA degree', 'DEC degree',\n",
    "              'RA true z', 'DEC true z', 'RA inferred z', 'DEC inferred z',\n",
    "              'True z', 'Inferred z', 'Peculiar z', 'True scale',\n",
    "              'Comoving X', 'Comoving Y', 'Comoving Z',\n",
    "              'True angular distance', 'Inferred angular distance',\n",
    "              'Snapshot z', 'Geometric z', 'Lightcone number',\n",
    "              'Stellar mass w2sr', 'Total gas mass w2sr', 'Total subhalo mass',\n",
    "              'Total BH mass w2sr', 'Total baryon mass w2sr', 'SFR w2sr',\n",
    "              'Total BH accretion rate', 'Camera X', 'Camera Y', 'Camera Z',\n",
    "              'Intrinsic g mag', 'Intrinsic r mag', 'Intrinsic i mag',\n",
    "              'Intrinsic z mag', 'Galaxy motion X', 'Galaxy motion Y',\n",
    "              'Galaxy motion Z/Peculiar', 'Cosmological expansion',\n",
    "              'Apparent total gmag']"
   ]
  },
  {
   "cell_type": "code",
   "execution_count": 13,
   "metadata": {},
   "outputs": [],
   "source": [
    "lcd=ascii.read(testfile,names=lc_colnames)"
   ]
  },
  {
   "cell_type": "code",
   "execution_count": 24,
   "metadata": {},
   "outputs": [
    {
     "name": "stdout",
     "output_type": "stream",
     "text": [
      "30219\n"
     ]
    }
   ],
   "source": [
    "testrow=lcd[2]\n",
    "print(testrow['Subhalo index'])\n"
   ]
  },
  {
   "cell_type": "code",
   "execution_count": 25,
   "metadata": {},
   "outputs": [
    {
     "data": {
      "text/plain": [
       "(48, 30219, 0.126966, -0.028623, 3769.07, -849.7, 3768.5, -849.57, 1.08169317, 1.08091235, -0.00078086, 8.246, 7.8461, -1.7688, 3540.6799, 1700.8654, 1700.6078, 1.07449996, 1.08280003, 11, 2.477e+11, 3.5414e+09, 2.6099e+12, 2.3876e+09, 2.5363e+11, 1.1516, 0.00099841, 3.7691, -0.8497, 1700.8655, -23.66, -24.16, -24.43, -24.63, 7.53, 52.06, -234.1, 324280., 20.72)"
      ]
     },
     "execution_count": 25,
     "metadata": {},
     "output_type": "execute_result"
    }
   ],
   "source": [
    "testrow.as_void()"
   ]
  },
  {
   "cell_type": "code",
   "execution_count": 26,
   "metadata": {},
   "outputs": [
    {
     "name": "stdout",
     "output_type": "stream",
     "text": [
      "dict_keys(['snap', 'id', 'bhmdot', 'cm_x', 'cm_y', 'cm_z', 'gasmetallicity', 'gasmetallicityhalfrad', 'gasmetallicitymaxrad', 'gasmetallicitysfr', 'gasmetallicitysfrweighted', 'pos_x', 'pos_y', 'pos_z', 'halfmassrad', 'halfmassrad_gas', 'halfmassrad_dm', 'halfmassrad_stars', 'halfmassrad_bhs', 'len', 'len_gas', 'len_dm', 'len_stars', 'len_bhs', 'mass', 'mass_gas', 'mass_dm', 'mass_stars', 'mass_bhs', 'massinhalfrad', 'massinhalfrad_gas', 'massinhalfrad_dm', 'massinhalfrad_stars', 'massinhalfrad_bhs', 'massinmaxrad', 'massinmaxrad_gas', 'massinmaxrad_dm', 'massinmaxrad_stars', 'massinmaxrad_bhs', 'massinrad', 'massinrad_gas', 'massinrad_dm', 'massinrad_stars', 'massinrad_bhs', 'sfr', 'sfrinhalfrad', 'sfrinmaxrad', 'sfrinrad', 'spin_x', 'spin_y', 'spin_z', 'starmetallicity', 'starmetallicityhalfrad', 'starmetallicitymaxrad', 'stellarphotometrics_u', 'stellarphotometrics_b', 'stellarphotometrics_v', 'stellarphotometrics_k', 'stellarphotometrics_g', 'stellarphotometrics_r', 'stellarphotometrics_i', 'stellarphotometrics_z', 'stellarphotometricsmassinrad', 'stellarphotometricsrad', 'vel_x', 'vel_y', 'vel_z', 'veldisp', 'vmax', 'vmaxrad', 'windmass', 'prog_snap', 'prog_sfid', 'desc_snap', 'desc_sfid', 'parent', 'grnr', 'primary_flag', 'mass_log_msun', 'related', 'cutouts', 'trees', 'supplementary_data', 'vis', 'meta'])\n"
     ]
    }
   ],
   "source": [
    "test_sub=tau.get(tau.baseUrl+'/TNG300-1/snapshots/'+str(testrow['Snapshot number'])+'/subhalos/'+str(testrow['Subhalo index']))\n",
    "print(test_sub.keys())"
   ]
  },
  {
   "cell_type": "code",
   "execution_count": 27,
   "metadata": {},
   "outputs": [
    {
     "name": "stdout",
     "output_type": "stream",
     "text": [
      "362981989961.6179\n",
      "247700000000.0\n",
      " \n",
      "-24.6284\n",
      "-24.63\n",
      " \n",
      "2609949808089.755\n",
      "2609900000000.0\n",
      "1.000019084290492\n"
     ]
    }
   ],
   "source": [
    "print(test_sub['mass_stars']*(1.0e10)/tau.tngh)\n",
    "print(testrow['Stellar mass w2sr'])\n",
    "print(' ')\n",
    "print(test_sub['stellarphotometrics_z'])\n",
    "print(testrow['Intrinsic z mag'])\n",
    "print(' ')\n",
    "print(test_sub['mass']*(1.0e10)/tau.tngh)\n",
    "print(testrow['Total subhalo mass'])\n",
    "print((test_sub['mass']*(1.0e10)/tau.tngh)/testrow['Total subhalo mass'])"
   ]
  },
  {
   "cell_type": "code",
   "execution_count": 8,
   "metadata": {},
   "outputs": [],
   "source": [
    "d={'thing':np.asarray([1.0,2.0])}"
   ]
  },
  {
   "cell_type": "code",
   "execution_count": 9,
   "metadata": {},
   "outputs": [
    {
     "data": {
      "text/plain": [
       "(2,)"
      ]
     },
     "execution_count": 9,
     "metadata": {},
     "output_type": "execute_result"
    }
   ],
   "source": [
    "d['thing'].shape"
   ]
  },
  {
   "cell_type": "code",
   "execution_count": null,
   "metadata": {},
   "outputs": [],
   "source": []
  }
 ],
 "metadata": {
  "kernelspec": {
   "display_name": "Python 3",
   "language": "python",
   "name": "python3"
  },
  "language_info": {
   "codemirror_mode": {
    "name": "ipython",
    "version": 3
   },
   "file_extension": ".py",
   "mimetype": "text/x-python",
   "name": "python",
   "nbconvert_exporter": "python",
   "pygments_lexer": "ipython3",
   "version": "3.6.10"
  }
 },
 "nbformat": 4,
 "nbformat_minor": 4
}
