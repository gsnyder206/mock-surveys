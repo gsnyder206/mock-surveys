{
 "cells": [
  {
   "cell_type": "code",
   "execution_count": 4,
   "id": "a76d3325",
   "metadata": {},
   "outputs": [],
   "source": [
    "import numpy as np\n",
    "import numpy.random as random\n",
    "import astropy\n",
    "import astropy.io.fits as fits\n",
    "from astropy.convolution import Gaussian2DKernel\n",
    "import photutils\n",
    "import statmorph\n",
    "import matplotlib\n",
    "import matplotlib.pyplot as pyplot\n",
    "%matplotlib inline"
   ]
  },
  {
   "cell_type": "code",
   "execution_count": 7,
   "id": "c8711ddd",
   "metadata": {},
   "outputs": [
    {
     "name": "stdout",
     "output_type": "stream",
     "text": [
      "Filename: ../outputs/TNG50-1_12_11_xyz_F200W.fits\n",
      "No.    Name      Ver    Type      Cards   Dimensions   Format\n",
      "  0  jwst_f200w    1 PrimaryHDU      32   (4500, 4500)   float32   \n",
      "  1  InputData     1 BinTableHDU    143   8710R x 39C   [K, K, D, D, D, D, D, D, D, D, D, D, D, D, D, D, D, D, D, K, D, D, D, D, D, D, D, D, D, D, D, D, D, D, D, D, D, D, D]   \n",
      "  2  OutputData    1 BinTableHDU    101   8710R x 46C   [K, K, D, D, K, D, D, K, K, D, D, D, D, D, D, D, D, D, D, D, D, D, D, D, D, D, K, D, D, D, D, D, D, D, D, D, D, D, D, D, D, D, D, D, D, D]   \n",
      "None\n",
      "('SIMPLE', True, 'conforms to FITS standard')\n",
      "('BITPIX', -32, 'array data type')\n",
      "('NAXIS', 2, 'number of array dimensions')\n",
      "('NAXIS1', 4500, '')\n",
      "('NAXIS2', 4500, '')\n",
      "('EXTEND', True, '')\n",
      "('WCSAXES', 2, 'Number of coordinate axes')\n",
      "('CRPIX1', 2250.0, 'Pixel coordinate of reference point')\n",
      "('CRPIX2', 2250.0, 'Pixel coordinate of reference point')\n",
      "('PC1_1', 8.3333333333333e-06, 'Coordinate transformation matrix element')\n",
      "('PC2_2', 8.3333333333333e-06, 'Coordinate transformation matrix element')\n",
      "('CDELT1', 1.0, '[deg] Coordinate increment at reference point')\n",
      "('CDELT2', 1.0, '[deg] Coordinate increment at reference point')\n",
      "('CUNIT1', 'deg', 'Units of coordinate increment and value')\n",
      "('CUNIT2', 'deg', 'Units of coordinate increment and value')\n",
      "('CTYPE1', 'RA---TAN', 'Right ascension, gnomonic projection')\n",
      "('CTYPE2', 'DEC--TAN', 'Declination, gnomonic projection')\n",
      "('CRVAL1', 0.0, '[deg] Coordinate value at reference point')\n",
      "('CRVAL2', 0.0, '[deg] Coordinate value at reference point')\n",
      "('LONPOLE', 180.0, '[deg] Native longitude of celestial pole')\n",
      "('LATPOLE', 0.0, '[deg] Native latitude of celestial pole')\n",
      "('MJDREF', 0.0, '[d] MJD of fiducial time')\n",
      "('RADESYS', 'ICRS', 'Equatorial coordinate system')\n",
      "('PIXSCALE', 0.03, 'arcsec')\n",
      "('W_DEG', 0.0375, 'degrees')\n",
      "('H_DEG', 0.0375, 'degrees')\n",
      "('EXTNAME', 'jwst_f200w', '')\n",
      "('FILTER', 'jwst_f200w', '')\n",
      "('SIMNAME', 'TNG50-1', '')\n",
      "('LCFNAME', 'Lightcone_TNG50-1_mag32_12_11_xyz.txt', 'lightcone file path')\n",
      "('BUNIT', 'nanoJanskies', '')\n",
      "('NEXTI', 8710, '')\n"
     ]
    }
   ],
   "source": [
    "im1='../outputs/TNG50-1_12_11_xyz_F200W.fits'\n",
    "fo=fits.open(im1)\n",
    "print(fo.info())\n",
    "print(fo[0].header.cards)"
   ]
  },
  {
   "cell_type": "code",
   "execution_count": 10,
   "id": "25d6eb25",
   "metadata": {},
   "outputs": [
    {
     "name": "stdout",
     "output_type": "stream",
     "text": [
      "0.2115710938304086\n"
     ]
    }
   ],
   "source": [
    "np_flux=np.pi*(0.08/0.03)**2 ; print(1/np_flux**0.5)"
   ]
  },
  {
   "cell_type": "code",
   "execution_count": null,
   "id": "9cd42297",
   "metadata": {},
   "outputs": [],
   "source": []
  }
 ],
 "metadata": {
  "kernelspec": {
   "display_name": "Python 3 (ipykernel)",
   "language": "python",
   "name": "python3"
  },
  "language_info": {
   "codemirror_mode": {
    "name": "ipython",
    "version": 3
   },
   "file_extension": ".py",
   "mimetype": "text/x-python",
   "name": "python",
   "nbconvert_exporter": "python",
   "pygments_lexer": "ipython3",
   "version": "3.9.6"
  }
 },
 "nbformat": 4,
 "nbformat_minor": 5
}
