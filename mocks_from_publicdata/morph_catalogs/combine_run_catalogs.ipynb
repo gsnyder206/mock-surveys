{
 "cells": [
  {
   "cell_type": "code",
   "execution_count": 5,
   "id": "71149bef",
   "metadata": {},
   "outputs": [],
   "source": [
    "import astropy.io.ascii as ascii\n",
    "from astropy.table import Table, vstack"
   ]
  },
  {
   "cell_type": "code",
   "execution_count": 8,
   "id": "41d6d940",
   "metadata": {},
   "outputs": [],
   "source": [
    "f200w_cat1=ascii.read('morphcat_tng100_run_2021_10_28_f200w.txt')\n",
    "f200w_cat2=ascii.read('morphcat_tng100_run_2021_11_01_f200w.txt')\n",
    "f200w_cat3=ascii.read('morphcat_tng100_run_2021_11_02_f200w.txt')\n",
    "f200w_cat4=ascii.read('morphcat_tng100_run_2021_11_03_f200w.txt')\n",
    "\n",
    "f435w_cat1=ascii.read('morphcat_tng100_run_2021_10_28_f435w.txt')\n",
    "f435w_cat2=ascii.read('morphcat_tng100_run_2021_11_01_f435w.txt')\n",
    "f435w_cat3=ascii.read('morphcat_tng100_run_2021_11_02_f435w.txt')\n",
    "f435w_cat4=ascii.read('morphcat_tng100_run_2021_11_03_f435w.txt')\n",
    "\n",
    "f814w_cat1=ascii.read('morphcat_tng100_run_2021_10_28_f814w.txt')\n",
    "f814w_cat2=ascii.read('morphcat_tng100_run_2021_11_01_f814w.txt')\n",
    "f814w_cat3=ascii.read('morphcat_tng100_run_2021_11_02_f814w.txt')\n",
    "f814w_cat4=ascii.read('morphcat_tng100_run_2021_11_03_f814w.txt')\n",
    "\n",
    "f277w_cat1=ascii.read('morphcat_tng100_run_2021_10_28_f277w.txt')\n",
    "f277w_cat2=ascii.read('morphcat_tng100_run_2021_11_01_f277w.txt')\n",
    "f277w_cat3=ascii.read('morphcat_tng100_run_2021_11_02_f277w.txt')\n",
    "f277w_cat4=ascii.read('morphcat_tng100_run_2021_11_03_f277w.txt')\n",
    "\n",
    "f356w_cat1=ascii.read('morphcat_tng100_run_2021_10_28_f356w.txt')\n",
    "f356w_cat2=ascii.read('morphcat_tng100_run_2021_11_01_f356w.txt')\n",
    "f356w_cat3=ascii.read('morphcat_tng100_run_2021_11_02_f356w.txt')\n",
    "f356w_cat4=ascii.read('morphcat_tng100_run_2021_11_03_f356w.txt')\n",
    "\n",
    "mstar_cat1=ascii.read('morphcat_tng100_run_2021_10_28_mstar.txt')\n",
    "mstar_cat2=ascii.read('morphcat_tng100_run_2021_11_01_mstar.txt')\n",
    "mstar_cat3=ascii.read('morphcat_tng100_run_2021_11_02_mstar.txt')\n",
    "mstar_cat4=ascii.read('morphcat_tng100_run_2021_11_03_mstar.txt')"
   ]
  },
  {
   "cell_type": "code",
   "execution_count": 9,
   "id": "8c88ede1",
   "metadata": {},
   "outputs": [],
   "source": [
    "f200w_fullcat=vstack([f200w_cat1,f200w_cat2,f200w_cat3,f200w_cat4])\n",
    "f435w_fullcat=vstack([f435w_cat1,f435w_cat2,f435w_cat3,f435w_cat4])\n",
    "f814w_fullcat=vstack([f814w_cat1,f814w_cat2,f814w_cat3,f814w_cat4])\n",
    "f277w_fullcat=vstack([f277w_cat1,f277w_cat2,f277w_cat3,f277w_cat4])\n",
    "f356w_fullcat=vstack([f356w_cat1,f356w_cat2,f356w_cat3,f356w_cat4])\n",
    "mstar_fullcat=vstack([mstar_cat1,mstar_cat2,mstar_cat3,mstar_cat4])\n"
   ]
  },
  {
   "cell_type": "code",
   "execution_count": 12,
   "id": "a16fe084",
   "metadata": {},
   "outputs": [],
   "source": [
    "f200w_fullcat.write('morphcat_tng100_run_1_f200w.txt',format='ascii',overwrite=True)\n",
    "f435w_fullcat.write('morphcat_tng100_run_1_f435w.txt',format='ascii',overwrite=True)\n",
    "f814w_fullcat.write('morphcat_tng100_run_1_f814w.txt',format='ascii',overwrite=True)\n",
    "f277w_fullcat.write('morphcat_tng100_run_1_f277w.txt',format='ascii',overwrite=True)\n",
    "f356w_fullcat.write('morphcat_tng100_run_1_f356w.txt',format='ascii',overwrite=True)\n",
    "mstar_fullcat.write('morphcat_tng100_run_1_mstar.txt',format='ascii',overwrite=True)\n"
   ]
  },
  {
   "cell_type": "code",
   "execution_count": null,
   "id": "f4d25443",
   "metadata": {},
   "outputs": [],
   "source": []
  }
 ],
 "metadata": {
  "kernelspec": {
   "display_name": "Python 3 (ipykernel)",
   "language": "python",
   "name": "python3"
  },
  "language_info": {
   "codemirror_mode": {
    "name": "ipython",
    "version": 3
   },
   "file_extension": ".py",
   "mimetype": "text/x-python",
   "name": "python",
   "nbconvert_exporter": "python",
   "pygments_lexer": "ipython3",
   "version": "3.9.6"
  }
 },
 "nbformat": 4,
 "nbformat_minor": 5
}
