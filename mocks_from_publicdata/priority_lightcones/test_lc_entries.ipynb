{
 "cells": [
  {
   "cell_type": "code",
   "execution_count": 1,
   "metadata": {},
   "outputs": [],
   "source": [
    "import tng_api_utils as tau\n",
    "import astropy.io.ascii as ascii"
   ]
  },
  {
   "cell_type": "code",
   "execution_count": 2,
   "metadata": {},
   "outputs": [],
   "source": [
    "testfile='Lightcone_TNG300-1_mag30_6_5_yxz.txt'\n",
    "testfile2='Lightcone_TNG100-1_mag30_7_6_zyx.txt'\n",
    "lc_colnames=['Snapshot number', 'Subhalo index', 'RA degree', 'DEC degree',\n",
    "              'RA true z', 'DEC true z', 'RA inferred z', 'DEC inferred z',\n",
    "              'True z', 'Inferred z', 'Peculiar z', 'True scale',\n",
    "              'Comoving X', 'Comoving Y', 'Comoving Z',\n",
    "              'True angular distance', 'Inferred angular distance',\n",
    "              'Snapshot z', 'Geometric z', 'Lightcone number',\n",
    "              'Stellar mass w2sr', 'Total gas mass w2sr', 'Total subhalo mass',\n",
    "              'Total BH mass w2sr', 'Total baryon mass w2sr', 'SFR w2sr',\n",
    "              'Total BH accretion rate', 'Camera X', 'Camera Y', 'Camera Z',\n",
    "              'Intrinsic g mag', 'Intrinsic r mag', 'Intrinsic i mag',\n",
    "              'Intrinsic z mag', 'Galaxy motion X', 'Galaxy motion Y',\n",
    "              'Galaxy motion Z/Peculiar', 'Cosmological expansion',\n",
    "              'Apparent total gmag']"
   ]
  },
  {
   "cell_type": "code",
   "execution_count": 3,
   "metadata": {},
   "outputs": [],
   "source": [
    "lcd=ascii.read(testfile2,names=lc_colnames)"
   ]
  },
  {
   "cell_type": "code",
   "execution_count": 4,
   "metadata": {},
   "outputs": [
    {
     "name": "stdout",
     "output_type": "stream",
     "text": [
      "842724\n"
     ]
    }
   ],
   "source": [
    "testrow=lcd[1000]\n",
    "print(testrow['Subhalo index'])\n"
   ]
  },
  {
   "cell_type": "code",
   "execution_count": 5,
   "metadata": {},
   "outputs": [
    {
     "data": {
      "text/plain": [
       "(78, 842724, 0.055077, 0.095284, 853.15, 1475.97, 854.48, 1478.26, 0.28543895, 0.28606459, 0.00062564, 4.3028, 1.0967, 1.8973, 1140.8552, 887.5219, 888.9027, 0.29769999, 0.28909999, 10, 6412600., 86132000., 1.5692e+10, 0., 92544000., 0., 0., 0.8531, 1.476, 887.5219, -11.18, -11.71, -11.95, -12.06, -321.23, 90.47, 187.56, 85572., 29.75)"
      ]
     },
     "execution_count": 5,
     "metadata": {},
     "output_type": "execute_result"
    }
   ],
   "source": [
    "testrow.as_void()"
   ]
  },
  {
   "cell_type": "code",
   "execution_count": 6,
   "metadata": {},
   "outputs": [
    {
     "name": "stdout",
     "output_type": "stream",
     "text": [
      "dict_keys(['snap', 'id', 'bhmdot', 'cm_x', 'cm_y', 'cm_z', 'gasmetallicity', 'gasmetallicityhalfrad', 'gasmetallicitymaxrad', 'gasmetallicitysfr', 'gasmetallicitysfrweighted', 'pos_x', 'pos_y', 'pos_z', 'halfmassrad', 'halfmassrad_gas', 'halfmassrad_dm', 'halfmassrad_stars', 'halfmassrad_bhs', 'len', 'len_gas', 'len_dm', 'len_stars', 'len_bhs', 'mass', 'mass_gas', 'mass_dm', 'mass_stars', 'mass_bhs', 'massinhalfrad', 'massinhalfrad_gas', 'massinhalfrad_dm', 'massinhalfrad_stars', 'massinhalfrad_bhs', 'massinmaxrad', 'massinmaxrad_gas', 'massinmaxrad_dm', 'massinmaxrad_stars', 'massinmaxrad_bhs', 'massinrad', 'massinrad_gas', 'massinrad_dm', 'massinrad_stars', 'massinrad_bhs', 'sfr', 'sfrinhalfrad', 'sfrinmaxrad', 'sfrinrad', 'spin_x', 'spin_y', 'spin_z', 'starmetallicity', 'starmetallicityhalfrad', 'starmetallicitymaxrad', 'stellarphotometrics_u', 'stellarphotometrics_b', 'stellarphotometrics_v', 'stellarphotometrics_k', 'stellarphotometrics_g', 'stellarphotometrics_r', 'stellarphotometrics_i', 'stellarphotometrics_z', 'stellarphotometricsmassinrad', 'stellarphotometricsrad', 'vel_x', 'vel_y', 'vel_z', 'veldisp', 'vmax', 'vmaxrad', 'windmass', 'prog_snap', 'prog_sfid', 'desc_snap', 'desc_sfid', 'parent', 'grnr', 'primary_flag', 'mass_log_msun', 'related', 'cutouts', 'trees', 'supplementary_data', 'vis', 'meta'])\n"
     ]
    }
   ],
   "source": [
    "test_sub=tau.get(tau.baseUrl+'/TNG100-1/snapshots/'+str(testrow['Snapshot number'])+'/subhalos/'+str(testrow['Subhalo index']))\n",
    "print(test_sub.keys())"
   ]
  },
  {
   "cell_type": "code",
   "execution_count": 7,
   "metadata": {},
   "outputs": [
    {
     "name": "stdout",
     "output_type": "stream",
     "text": [
      "6406849.719515796\n",
      "6412600.0\n",
      " \n",
      "-12.064\n",
      "-12.06\n",
      " \n",
      "15691614998.523767\n",
      "15692000000.0\n",
      "0.9999754651111246\n"
     ]
    }
   ],
   "source": [
    "print(test_sub['mass_stars']*(1.0e10)/tau.tngh)\n",
    "print(testrow['Stellar mass w2sr'])\n",
    "print(' ')\n",
    "print(test_sub['stellarphotometrics_z'])\n",
    "print(testrow['Intrinsic z mag'])\n",
    "print(' ')\n",
    "print(test_sub['mass']*(1.0e10)/tau.tngh)\n",
    "print(testrow['Total subhalo mass'])\n",
    "print((test_sub['mass']*(1.0e10)/tau.tngh)/testrow['Total subhalo mass'])"
   ]
  },
  {
   "cell_type": "code",
   "execution_count": null,
   "metadata": {},
   "outputs": [],
   "source": [
    "d={'thing':np.asarray([1.0,2.0])}"
   ]
  },
  {
   "cell_type": "code",
   "execution_count": null,
   "metadata": {},
   "outputs": [],
   "source": [
    "d['thing'].shape"
   ]
  },
  {
   "cell_type": "code",
   "execution_count": null,
   "metadata": {},
   "outputs": [],
   "source": []
  }
 ],
 "metadata": {
  "kernelspec": {
   "display_name": "Python 3",
   "language": "python",
   "name": "python3"
  },
  "language_info": {
   "codemirror_mode": {
    "name": "ipython",
    "version": 3
   },
   "file_extension": ".py",
   "mimetype": "text/x-python",
   "name": "python",
   "nbconvert_exporter": "python",
   "pygments_lexer": "ipython3",
   "version": "3.6.12"
  }
 },
 "nbformat": 4,
 "nbformat_minor": 4
}
